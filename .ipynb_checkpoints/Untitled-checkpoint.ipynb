{
 "cells": [
  {
   "cell_type": "code",
   "execution_count": 1,
   "id": "eb2b9e26",
   "metadata": {},
   "outputs": [],
   "source": [
    "import feedparser"
   ]
  },
  {
   "cell_type": "code",
   "execution_count": 109,
   "id": "59a6303e",
   "metadata": {},
   "outputs": [],
   "source": [
    "quantafeed = feedparser.parse(\"https://api.quantamagazine.org/feed/\")\n",
    "physfeed = feedparser.parse(\"https://phys.org/rss-feed/\")"
   ]
  },
  {
   "cell_type": "code",
   "execution_count": 79,
   "id": "66a927ca",
   "metadata": {},
   "outputs": [
    {
     "data": {
      "text/plain": [
       "dict_keys(['bozo', 'entries', 'feed', 'headers', 'etag', 'updated', 'updated_parsed', 'href', 'status', 'encoding', 'version', 'namespaces'])"
      ]
     },
     "execution_count": 79,
     "metadata": {},
     "output_type": "execute_result"
    }
   ],
   "source": [
    "feed.keys()"
   ]
  },
  {
   "cell_type": "code",
   "execution_count": 80,
   "id": "c20ae411",
   "metadata": {},
   "outputs": [
    {
     "data": {
      "text/plain": [
       "dict_keys(['title', 'title_detail', 'links', 'link', 'comments', 'published', 'published_parsed', 'authors', 'author', 'author_detail', 'tags', 'id', 'guidislink', 'summary', 'summary_detail', 'content', 'wfw_commentrss', 'slash_comments', 'media_content'])"
      ]
     },
     "execution_count": 80,
     "metadata": {},
     "output_type": "execute_result"
    }
   ],
   "source": [
    "feed.entries[0].keys()"
   ]
  },
  {
   "cell_type": "code",
   "execution_count": 82,
   "id": "dd58301b",
   "metadata": {},
   "outputs": [
    {
     "name": "stdout",
     "output_type": "stream",
     "text": [
      "To Defend the Genome, These Cells Destroy Their Own DNA\n"
     ]
    }
   ],
   "source": [
    "print(feed.entries[0].title)"
   ]
  },
  {
   "cell_type": "code",
   "execution_count": 83,
   "id": "7bc536ee",
   "metadata": {
    "scrolled": true
   },
   "outputs": [
    {
     "name": "stdout",
     "output_type": "stream",
     "text": [
      "Under a microscope, cells in a worm embryo deliberately eliminated one-third of their genome — an uncompromising tactic that may combat harmful genetic parasites.            <p>The post <a href=\"https://www.quantamagazine.org/to-defend-the-genome-these-cells-destroy-their-own-dna-20230926/\" target=\"_blank\">To Defend the Genome, These Cells Destroy Their Own DNA</a> first appeared on <a href=\"https://api.quantamagazine.org\" target=\"_blank\">Quanta Magazine</a></p>\n"
     ]
    }
   ],
   "source": [
    "print(feed.entries[0].summary)"
   ]
  },
  {
   "cell_type": "code",
   "execution_count": 84,
   "id": "9c94fc4d",
   "metadata": {},
   "outputs": [
    {
     "name": "stdout",
     "output_type": "stream",
     "text": [
      "https://www.quantamagazine.org/to-defend-the-genome-these-cells-destroy-their-own-dna-20230926/\n"
     ]
    }
   ],
   "source": [
    "print(feed.entries[0].link)"
   ]
  },
  {
   "cell_type": "code",
   "execution_count": 92,
   "id": "c7184387",
   "metadata": {},
   "outputs": [
    {
     "name": "stdout",
     "output_type": "stream",
     "text": [
      "['Abstractions blog', 'Biology']\n"
     ]
    }
   ],
   "source": [
    "feed.entries[0].tags\n",
    "tags = []\n",
    "for i in range(len(quanta.entries[0].tags)):\n",
    "    tags.append(feed.entries[0].tags[i].term)\n",
    "\n",
    "print(tags)"
   ]
  },
  {
   "cell_type": "code",
   "execution_count": 86,
   "id": "b9035690",
   "metadata": {},
   "outputs": [
    {
     "data": {
      "text/plain": [
       "'Tue, 26 Sep 2023 14:00:45 +0000'"
      ]
     },
     "execution_count": 86,
     "metadata": {},
     "output_type": "execute_result"
    }
   ],
   "source": [
    "feed.entries[0].published"
   ]
  },
  {
   "cell_type": "code",
   "execution_count": 87,
   "id": "00f40335",
   "metadata": {},
   "outputs": [
    {
     "data": {
      "text/plain": [
       "time.struct_time(tm_year=2023, tm_mon=9, tm_mday=26, tm_hour=14, tm_min=0, tm_sec=45, tm_wday=1, tm_yday=269, tm_isdst=0)"
      ]
     },
     "execution_count": 87,
     "metadata": {},
     "output_type": "execute_result"
    }
   ],
   "source": [
    "feed.entries[0].published_parsed"
   ]
  },
  {
   "cell_type": "code",
   "execution_count": 93,
   "id": "2e26ef31",
   "metadata": {},
   "outputs": [
    {
     "ename": "AttributeError",
     "evalue": "object has no attribute 'media_thumbnail'",
     "output_type": "error",
     "traceback": [
      "\u001b[0;31m---------------------------------------------------------------------------\u001b[0m",
      "\u001b[0;31mKeyError\u001b[0m                                  Traceback (most recent call last)",
      "File \u001b[0;32m/Library/Frameworks/Python.framework/Versions/3.11/lib/python3.11/site-packages/feedparser/util.py:156\u001b[0m, in \u001b[0;36mFeedParserDict.__getattr__\u001b[0;34m(self, key)\u001b[0m\n\u001b[1;32m    155\u001b[0m \u001b[38;5;28;01mtry\u001b[39;00m:\n\u001b[0;32m--> 156\u001b[0m     \u001b[38;5;28;01mreturn\u001b[39;00m \u001b[38;5;28;43mself\u001b[39;49m\u001b[38;5;241;43m.\u001b[39;49m\u001b[38;5;21;43m__getitem__\u001b[39;49m\u001b[43m(\u001b[49m\u001b[43mkey\u001b[49m\u001b[43m)\u001b[49m\n\u001b[1;32m    157\u001b[0m \u001b[38;5;28;01mexcept\u001b[39;00m \u001b[38;5;167;01mKeyError\u001b[39;00m:\n",
      "File \u001b[0;32m/Library/Frameworks/Python.framework/Versions/3.11/lib/python3.11/site-packages/feedparser/util.py:113\u001b[0m, in \u001b[0;36mFeedParserDict.__getitem__\u001b[0;34m(self, key)\u001b[0m\n\u001b[1;32m    112\u001b[0m         \u001b[38;5;28;01mreturn\u001b[39;00m \u001b[38;5;28mdict\u001b[39m\u001b[38;5;241m.\u001b[39m\u001b[38;5;21m__getitem__\u001b[39m(\u001b[38;5;28mself\u001b[39m, realkey)\n\u001b[0;32m--> 113\u001b[0m \u001b[38;5;28;01mreturn\u001b[39;00m \u001b[38;5;28;43mdict\u001b[39;49m\u001b[38;5;241;43m.\u001b[39;49m\u001b[38;5;21;43m__getitem__\u001b[39;49m\u001b[43m(\u001b[49m\u001b[38;5;28;43mself\u001b[39;49m\u001b[43m,\u001b[49m\u001b[43m \u001b[49m\u001b[43mkey\u001b[49m\u001b[43m)\u001b[49m\n",
      "\u001b[0;31mKeyError\u001b[0m: 'media_thumbnail'",
      "\nDuring handling of the above exception, another exception occurred:\n",
      "\u001b[0;31mAttributeError\u001b[0m                            Traceback (most recent call last)",
      "Cell \u001b[0;32mIn[93], line 1\u001b[0m\n\u001b[0;32m----> 1\u001b[0m key \u001b[38;5;241m=\u001b[39m \u001b[38;5;28mlist\u001b[39m(\u001b[43mfeed\u001b[49m\u001b[38;5;241;43m.\u001b[39;49m\u001b[43mentries\u001b[49m\u001b[43m[\u001b[49m\u001b[38;5;241;43m0\u001b[39;49m\u001b[43m]\u001b[49m\u001b[38;5;241;43m.\u001b[39;49m\u001b[43mmedia_thumbnail\u001b[49m[\u001b[38;5;241m0\u001b[39m]\u001b[38;5;241m.\u001b[39mkeys())[\u001b[38;5;241m0\u001b[39m]\n\u001b[1;32m      2\u001b[0m key\n",
      "File \u001b[0;32m/Library/Frameworks/Python.framework/Versions/3.11/lib/python3.11/site-packages/feedparser/util.py:158\u001b[0m, in \u001b[0;36mFeedParserDict.__getattr__\u001b[0;34m(self, key)\u001b[0m\n\u001b[1;32m    156\u001b[0m     \u001b[38;5;28;01mreturn\u001b[39;00m \u001b[38;5;28mself\u001b[39m\u001b[38;5;241m.\u001b[39m\u001b[38;5;21m__getitem__\u001b[39m(key)\n\u001b[1;32m    157\u001b[0m \u001b[38;5;28;01mexcept\u001b[39;00m \u001b[38;5;167;01mKeyError\u001b[39;00m:\n\u001b[0;32m--> 158\u001b[0m     \u001b[38;5;28;01mraise\u001b[39;00m \u001b[38;5;167;01mAttributeError\u001b[39;00m(\u001b[38;5;124m\"\u001b[39m\u001b[38;5;124mobject has no attribute \u001b[39m\u001b[38;5;124m'\u001b[39m\u001b[38;5;132;01m%s\u001b[39;00m\u001b[38;5;124m'\u001b[39m\u001b[38;5;124m\"\u001b[39m \u001b[38;5;241m%\u001b[39m key)\n",
      "\u001b[0;31mAttributeError\u001b[0m: object has no attribute 'media_thumbnail'"
     ]
    }
   ],
   "source": [
    "key = list(feed.entries[0].media_thumbnail[0].keys())[0]\n",
    "key"
   ]
  },
  {
   "cell_type": "code",
   "execution_count": 103,
   "id": "0f0ce30c",
   "metadata": {},
   "outputs": [],
   "source": [
    "#media_content\n",
    "media_url_quanta = (feed.entries[0].media_content[0]['url'])"
   ]
  },
  {
   "cell_type": "code",
   "execution_count": 114,
   "id": "86012b43",
   "metadata": {},
   "outputs": [
    {
     "data": {
      "text/plain": [
       "'https://scx1.b-cdn.net/csz/news/tmb/2019/2-pollution.jpg'"
      ]
     },
     "execution_count": 114,
     "metadata": {},
     "output_type": "execute_result"
    }
   ],
   "source": [
    "# phys.org media_link\n",
    "url = physfeed.entries[0].media_thumbnail[0][list(physfeed.entries[0].media_thumbnail[0].keys())[0]]\n",
    "url"
   ]
  },
  {
   "cell_type": "code",
   "execution_count": 70,
   "id": "7ef380ec",
   "metadata": {},
   "outputs": [
    {
     "name": "stdout",
     "output_type": "stream",
     "text": [
      "https://scx1.b-cdn.net/csz/news/tmb/2023/chi-nu-experiment-ends.jpg\n"
     ]
    }
   ],
   "source": [
    "print(url )"
   ]
  },
  {
   "cell_type": "code",
   "execution_count": 77,
   "id": "a476f1f2",
   "metadata": {},
   "outputs": [
    {
     "name": "stdout",
     "output_type": "stream",
     "text": [
      "{'title': 'Chi-Nu experiment ends, bolsters nuclear security and energy reactors', 'summary': 'The results of the Chi-Nu physics experiment at Los Alamos National Laboratory have contributed essential, never-before-observed data for enhancing nuclear security applications, understanding criticality safety and designing fast-neutron energy reactors. The Chi-Nu project, a years-long experiment measuring the energy spectrum of neutrons emitted from neutron-induced fission, recently concluded the most detailed and extensive uncertainty analysis of the three major actinide elements—uranium-238, uranium-235 and plutonium-239.', 'story_link': 'https://phys.org/news/2023-09-chi-nu-bolsters-nuclear-energy-reactors.html', 'tag': 'General Physics', 'media_url': 'https://scx1.b-cdn.net/csz/news/tmb/2023/chi-nu-experiment-ends.jpg'} \n",
      "\n",
      "\n",
      "\n",
      "\n",
      "\n",
      "\n",
      "\n",
      "{'title': \"Double trouble: Infamous 'eagle killer' bacterium produces not one, but two toxins\", 'summary': 'The cyanobacterium Aetokthonos hydrillicola produces not just one, but two highly potent toxins. In the latest issue of the journal Proceedings of the National Academy of Sciences (PNAS), an international team led by Martin Luther University Halle-Wittenberg (MLU) and Freie Universität Berlin describes the second toxin, which had remained elusive until now.', 'story_link': 'https://phys.org/news/2023-09-infamous-eagle-killer-bacterium-toxins.html', 'tag': 'Cell & Microbiology Molecular & Computational biology', 'media_url': 'https://scx1.b-cdn.net/csz/news/tmb/2023/double-trouble-infamou.jpg'} \n",
      "\n",
      "\n",
      "\n",
      "\n",
      "\n",
      "\n",
      "\n",
      "{'title': 'Team designs nitride-reinforced NbMoTaWHfN refractory high-entropy alloy', 'summary': 'A new generation of refractory alloys with excellent high-temperature performance is urgently demanded for aero-engines, gas turbines, and nuclear power plants. As the service temperature of their hot-ends is reaching 1800 °C or even higher, traditional superalloys can hardly fulfill the temperature demands. Mainly composed of refractory metal elements, refractory high-entropy alloys (RHEAs) exhibit enhanced strength at temperatures above 1,200° C, causing them to attract a great deal of attention.', 'story_link': 'https://phys.org/news/2023-09-team-nitride-reinforced-nbmotawhfn-refractory-high-entropy.html', 'tag': 'Materials Science', 'media_url': 'https://scx1.b-cdn.net/csz/news/tmb/2023/design-ultra-high-temp.jpg'} \n",
      "\n",
      "\n",
      "\n",
      "\n",
      "\n",
      "\n",
      "\n",
      "{'title': \"Thermal magIC: Digging into the details of an ambitious new 'thermometry camera'\", 'summary': \"Thermometers can do a lot of things: Measure the temperature at the center of your perfectly braised chicken or tell you whether to keep your child home from school due to illness. But because of their size, traditional thermometers' uses are still limited.\", 'story_link': 'https://phys.org/news/2023-09-thermal-magic-ambitious-thermometry-camera.html', 'tag': 'Nanophysics Nanomaterials', 'media_url': 'https://scx1.b-cdn.net/csz/news/tmb/2023/working-their-thermal-1.jpg'} \n",
      "\n",
      "\n",
      "\n",
      "\n",
      "\n",
      "\n",
      "\n",
      "{'title': \"NASA's Chandra rewinds story of great eruption of the 1840s\", 'summary': \"Using snapshots taken over 20 years with NASA's Chandra X-ray Observatory, astronomers have learned important new details about an eruption from Eta Carinae witnessed on Earth in the mid-19th century.\", 'story_link': 'https://phys.org/news/2023-09-nasa-chandra-rewinds-story-great.html', 'tag': 'Astronomy', 'media_url': 'https://scx1.b-cdn.net/csz/news/tmb/2023/nasas-chandra-rewinds.jpg'} \n",
      "\n",
      "\n",
      "\n",
      "\n",
      "\n",
      "\n",
      "\n",
      "{'title': \"Feds' cash stream supports Colorado River conservation—but the money will dry up\", 'summary': 'Despite a megadrought, states in the West have been able to avoid drastic cuts to their allocations of Colorado River water this year not only because of surprising storms but also thanks to generous financial incentives from all levels of government that have encouraged people to conserve.', 'story_link': 'https://phys.org/news/2023-09-feds-cash-stream-colorado-river.html', 'tag': 'Environment', 'media_url': 'https://scx1.b-cdn.net/csz/news/tmb/2022/colorado-river-1.jpg'} \n",
      "\n",
      "\n",
      "\n",
      "\n",
      "\n",
      "\n",
      "\n",
      "{'title': 'Researchers prepare for exascale supercomputer simulations of nuclear reactors', 'summary': \"Nuclear energy is responsible for approximately one-fifth of total electricity used in the U.S., and nearly half of the country's renewable electricity. Most of the reactors generating this electricity were built decades ago. The construction of new nuclear reactors that use advanced technologies and processes could help grow the amount of carbon-free electricity the nuclear power industry produces and help the U.S. progress toward a net zero economy.\", 'story_link': 'https://phys.org/news/2023-09-exascale-supercomputer-simulations-nuclear-reactors.html', 'tag': 'General Physics', 'media_url': 'https://scx1.b-cdn.net/csz/news/tmb/2023/argonne-prepares-for-e.jpg'} \n",
      "\n",
      "\n",
      "\n",
      "\n",
      "\n",
      "\n",
      "\n",
      "{'title': \"NASA's OSIRIS-REx capsule arrives in Houston\", 'summary': \"The first U.S. asteroid sample, delivered by the OSIRIS-REx spacecraft to Earth on Sept. 24, has arrived at its permanent home at NASA's Johnson Space Center in Houston, where it will be cared for, stored, and distributed to scientists worldwide.\", 'story_link': 'https://phys.org/news/2023-09-nasa-osiris-rex-capsule-houston.html', 'tag': 'Planetary Sciences', 'media_url': 'https://scx1.b-cdn.net/csz/news/tmb/2023/nasas-osiris-rex-capsu.jpg'} \n",
      "\n",
      "\n",
      "\n",
      "\n",
      "\n",
      "\n",
      "\n",
      "{'title': 'Soil carbon, nitrogen, soil fertility and climate change are tightly linked, new research shows', 'summary': \"In a first-of-its-kind long-term study, a collaborative group of scientists, including senior author Ashley Keiser, assistant professor of soil ecology at the University Of Massachusetts Amherst's Stockbridge School of Agriculture, have discovered that soil carbon determines whether mineralized nitrogen is available in the soil as ammonium, or further transformed into either nitrates that are easily lost to runoff and contribute to toxic algal blooms or nitrous oxide, which is 300 times more potent than carbon dioxide at warming the atmosphere.\", 'story_link': 'https://phys.org/news/2023-09-soil-carbon-nitrogen-fertility-climate.html', 'tag': 'Earth Sciences Environment', 'media_url': 'https://scx1.b-cdn.net/csz/news/tmb/2023/soil-carbon-nitrogen-s.jpg'} \n",
      "\n",
      "\n",
      "\n",
      "\n",
      "\n",
      "\n",
      "\n",
      "{'title': 'Fungus versus flies: Following a scent towards insecticide-free pest management', 'summary': \"While a blueberry with a fungal infection might end up in most people's compost bin, for a team of researchers in the US, it has provided a key to tackling the unsustainable use of insecticides.\", 'story_link': 'https://phys.org/news/2023-09-fungus-flies-scent-insecticide-free-pest.html', 'tag': 'Agriculture', 'media_url': 'https://scx1.b-cdn.net/csz/news/tmb/2023/fungus-versus-flies-fo.jpg'} \n",
      "\n",
      "\n",
      "\n",
      "\n",
      "\n",
      "\n",
      "\n",
      "{'title': 'Researchers fabricate chip-based optical resonators with record low UV losses', 'summary': 'Researchers have created chip-based photonic resonators that operate in the ultraviolet (UV) and visible regions of the spectrum and exhibit a record low UV light loss. The new resonators lay the groundwork for increasing the size, complexity and fidelity of UV photonic integrated circuit (PIC) design, which could enable new miniature chip-based devices for applications such as spectroscopic sensing, underwater communication and quantum information processing.', 'story_link': 'https://phys.org/news/2023-09-fabricate-chip-based-optical-resonators-uv.html', 'tag': 'Optics & Photonics', 'media_url': 'https://scx1.b-cdn.net/csz/news/tmb/2023/researchers-fabricate-1.jpg'} \n",
      "\n",
      "\n",
      "\n",
      "\n",
      "\n",
      "\n",
      "\n",
      "{'title': 'Intercomparison of multi-model ensemble-processing strategies for climate projection in China', 'summary': 'A new study led by Prof. Zhihong Jiang at Nanjing University of Information Science and Technology and Prof. Laurent Li at Laboratoire de Météorologie Dynamique, CNRS has been published in Science China Earth Sciences.', 'story_link': 'https://phys.org/news/2023-09-intercomparison-multi-model-ensemble-processing-strategies-climate.html', 'tag': 'Earth Sciences Environment', 'media_url': 'https://scx1.b-cdn.net/csz/news/tmb/2023/intercomparison-of-mul.jpg'} \n",
      "\n",
      "\n",
      "\n",
      "\n",
      "\n",
      "\n",
      "\n",
      "{'title': 'Study demonstrates the presence of camelids in Cordoba during the Roman and al-Andalus eras', 'summary': 'A research team has found the remains of nine different camelids, making Córdoba one of the main sites featuring this animal on the Iberian Peninsula', 'story_link': 'https://phys.org/news/2023-09-presence-camelids-cordoba-roman-al-andalus.html', 'tag': 'Archaeology', 'media_url': 'https://scx1.b-cdn.net/csz/news/tmb/2023/a-study-demonstrates-t.jpg'} \n",
      "\n",
      "\n",
      "\n",
      "\n",
      "\n",
      "\n",
      "\n",
      "{'title': 'Mineral nanoparticles could potentially act as nanozyme mimics, assisting fungi in breaking down organic pollutants', 'summary': 'A study led by Dr. Guanghui Yu from School of Earth System Science, Tianjin University, delved into the role of magnetite nanoparticles as nanozyme mimics.', 'story_link': 'https://phys.org/news/2023-09-mineral-nanoparticles-potentially-nanozyme-mimics.html', 'tag': 'Bio & Medicine Nanomaterials', 'media_url': 'https://scx1.b-cdn.net/csz/news/tmb/2023/new-research-has-uncov.jpg'} \n",
      "\n",
      "\n",
      "\n",
      "\n",
      "\n",
      "\n",
      "\n",
      "{'title': 'Certified Reference Material unlocks precise acrylamide measurement in infant formula', 'summary': 'The Korea Research Institute of Standards and Science (KRISS) has developed a Certified Reference Material (CRM) for the accurate analysis of low levels of acrylamide in infant formula.', 'story_link': 'https://phys.org/news/2023-09-certified-material-precise-acrylamide-infant.html', 'tag': 'Analytical Chemistry Materials Science', 'media_url': 'https://scx1.b-cdn.net/csz/news/tmb/2023/worlds-first-crm-by-kr.jpg'} \n",
      "\n",
      "\n",
      "\n",
      "\n",
      "\n",
      "\n",
      "\n",
      "{'title': 'South American bat rediscovered after a century', 'summary': 'The Strange Big-eared Brown Bat, Histiotus alienus, was first described by science in 1916, by the British zoologist Oldfield Thomas. The description of the species was based on a single specimen captured in Joinville, Paraná, in southern Brazil.', 'story_link': 'https://phys.org/news/2023-09-south-american-rediscovered-century.html', 'tag': 'Plants & Animals Ecology', 'media_url': 'https://scx1.b-cdn.net/csz/news/tmb/2023/for-the-first-time-in.jpg'} \n",
      "\n",
      "\n",
      "\n",
      "\n",
      "\n",
      "\n",
      "\n",
      "{'title': 'Effect of iron on the preservation of organic carbon in marine sediments and its implications for carbon sequestration', 'summary': 'A comprehensive review article by Professor Hu Limin, Professor Yao Peng, Professor Liu Xiting, Professor Liang Yantao, Postdoctoral Fellow Zhao Bin, Postdoctoral Fellow Du Jiazong, and master candidate Ji Yuhan from Ocean University of China has been published in both Chinese and English versions of the journal Science China Earth Sciences.', 'story_link': 'https://phys.org/news/2023-09-effect-iron-carbon-marine-sediments.html', 'tag': 'Earth Sciences Environment', 'media_url': 'https://scx1.b-cdn.net/csz/news/tmb/2023/the-effect-of-iron-on.jpg'} \n",
      "\n",
      "\n",
      "\n",
      "\n",
      "\n",
      "\n",
      "\n",
      "{'title': \"Investigating the role of greener plastics for Japan's carbon neutral goals\", 'summary': 'Japan has a plastic problem. Thanks in part to an overabundance of packaging, the country is the second largest producer of plastic waste per capita.', 'story_link': 'https://phys.org/news/2023-09-role-greener-plastics-japan-carbon.html', 'tag': 'Environment', 'media_url': 'https://scx1.b-cdn.net/csz/news/tmb/2023/investigating-the-role.jpg'} \n",
      "\n",
      "\n",
      "\n",
      "\n",
      "\n",
      "\n",
      "\n",
      "{'title': 'Study shows invertebrate decline reduces natural pest control and decomposition of organic matter', 'summary': 'The decline in invertebrates also affects the functioning of ecosystems, including two critical ecosystem services: aboveground pest control and belowground decomposition of organic material, according to a new study published in Current Biology and led by researchers at the German Centre for Integrative Biodiversity Research (iDiv) and Leipzig University.', 'story_link': 'https://phys.org/news/2023-09-invertebrate-decline-natural-pest-decomposition.html', 'tag': 'Plants & Animals Ecology', 'media_url': 'https://scx1.b-cdn.net/csz/news/tmb/2023/invertebrate-decline-r.jpg'} \n",
      "\n",
      "\n",
      "\n",
      "\n",
      "\n",
      "\n",
      "\n",
      "{'title': 'Chemists used machine learning and molecular modeling to identify potential anticancer drugs', 'summary': 'RUDN University chemists and colleagues from China built several machine learning models and discovered a group of potential drugs that inhibit the enzyme responsible for uncontrolled cell division. The results were published in Biomedicines.', 'story_link': 'https://phys.org/news/2023-09-chemists-machine-molecular-potential-anticancer.html', 'tag': 'Analytical Chemistry', 'media_url': 'https://scx1.b-cdn.net/csz/news/tmb/2023/chemists-used-ml-and-m.jpg'} \n",
      "\n",
      "\n",
      "\n",
      "\n",
      "\n",
      "\n",
      "\n",
      "{'title': 'Listening to the radio on the far side of the moon', 'summary': \"There are unexplored regions of the universe—and there are also unexplored times. In fact, there's a nearly 400-million-year gap in our universe's history that we've never seen: a time before stars known as the Dark Ages. To investigate that era, researchers want to pick up a particular radio signal that can't be measured from Earth.\", 'story_link': 'https://phys.org/news/2023-09-radio-side-moon.html', 'tag': 'Space Exploration Planetary Sciences', 'media_url': 'https://scx1.b-cdn.net/csz/news/tmb/2023/listening-to-the-radio.jpg'} \n",
      "\n",
      "\n",
      "\n",
      "\n",
      "\n",
      "\n",
      "\n",
      "{'title': 'Memory-induced Magnus effect: Looking at the unexpected curveball in miniature', 'summary': 'Whether you are familiar with the term \"Magnus effect\" or not, you have certainly seen it in action. It is when a spinning ball—for instance in football, cricket or baseball—bends away from its expected trajectory, often to the surprise of the opposing team. The principle also has engineering uses, for example to propel certain types of ships or aircraft using a \"Flettner rotor.\"', 'story_link': 'https://phys.org/news/2023-09-memory-induced-magnus-effect-unexpected-curveball.html', 'tag': 'General Physics Soft Matter', 'media_url': 'https://scx1.b-cdn.net/csz/news/tmb/2023/memory-induced-magnus-1.jpg'} \n",
      "\n",
      "\n",
      "\n",
      "\n",
      "\n",
      "\n",
      "\n",
      "{'title': 'Study sheds new light on strange lava worlds', 'summary': 'Lava worlds, massive exoplanets home to sparkling skies and roiling volcanic seas called magma oceans, are distinctly unlike the planets in our solar system.', 'story_link': 'https://phys.org/news/2023-09-strange-lava-worlds.html', 'tag': 'Planetary Sciences', 'media_url': 'https://scx1.b-cdn.net/csz/news/tmb/2023/study-sheds-new-light-3.jpg'} \n",
      "\n",
      "\n",
      "\n",
      "\n",
      "\n",
      "\n",
      "\n",
      "{'title': 'Thiol ligands modify metal nanocluster structures and optical properties', 'summary': 'Metal nanoclusters are tiny, crystalline structures up to two nanometers (2 x 10-9 meters) in diameter that contain a few to hundreds of metal atoms.  Understanding the precise assembly of metal nanoclusters is paramount to determining how different structures affect the properties and molecular interactions of these materials.', 'story_link': 'https://phys.org/news/2023-09-thiol-ligands-metal-nanocluster-optical.html', 'tag': 'Nanomaterials', 'media_url': 'https://scx1.b-cdn.net/csz/news/tmb/2023/thiol-ligands-modify-m.jpg'} \n",
      "\n",
      "\n",
      "\n",
      "\n",
      "\n",
      "\n",
      "\n",
      "{'title': 'RNA recovered from extinct animal in world first', 'summary': 'Scientists have for the first time recovered RNA from an extinct species, the Tasmanian tiger, raising hope for the resurrection of animals once thought lost forever, Stockholm University researchers told AFP.', 'story_link': 'https://phys.org/news/2023-09-rna-recovered-extinct-animal-world.html', 'tag': 'Paleontology & Fossils', 'media_url': 'https://scx1.b-cdn.net/csz/news/tmb/2023/daniela-kalthoff-in-ch.jpg'} \n",
      "\n",
      "\n",
      "\n",
      "\n",
      "\n",
      "\n",
      "\n",
      "{'title': 'From seafloor to space: New bacterial proteins shine light on climate and astrobiology', 'summary': \"Gigatons of greenhouse gas are trapped under the seafloor, and that's a good thing. Around the coasts of the continents, where slopes sink down into the sea, tiny cages of ice trap methane gas, preventing it from escaping and bubbling up into the atmosphere.\", 'story_link': 'https://phys.org/news/2023-09-seafloor-space-bacterial-proteins-climate.html', 'tag': 'Astrobiology', 'media_url': 'https://scx1.b-cdn.net/csz/news/tmb/2023/from-seafloor-to-space.jpg'} \n",
      "\n",
      "\n",
      "\n",
      "\n",
      "\n",
      "\n",
      "\n",
      "{'title': 'Colorado has a new plan to reduce greenhouse gases. Critics say it fails those most impacted by air pollution', 'summary': \"Colorado's air regulators have approved a new rule that will require the state's 18 largest manufacturers to reduce their greenhouse gas emissions, but the plan is receiving pointed criticism from environmental advocates who say loopholes will allow the dirtiest companies to keep on polluting the most impacted communities.\", 'story_link': 'https://phys.org/news/2023-09-colorado-greenhouse-gases-critics-impacted.html', 'tag': 'Environment', 'media_url': 'https://scx1.b-cdn.net/csz/news/tmb/2016/5739e742b98fc.jpg'} \n",
      "\n",
      "\n",
      "\n",
      "\n",
      "\n",
      "\n",
      "\n",
      "{'title': 'Decreasing biodiversity may promote spread of viruses', 'summary': 'How are environmental changes, loss of biodiversity, and the spread of pathogens connected? The answer is a puzzle. Scientists from Charité—Universitätsmedizin Berlin in cooperation with the Leibniz-IZW have now described one piece of that puzzle in a study on the effects of rainforest clearing on mosquitoes and the viruses they carry in the journal eLife.', 'story_link': 'https://phys.org/news/2023-09-decreasing-biodiversity-viruses.html', 'tag': 'Plants & Animals Ecology', 'media_url': 'https://scx1.b-cdn.net/csz/news/tmb/2023/decreasing-biodiversit.jpg'} \n",
      "\n",
      "\n",
      "\n",
      "\n",
      "\n",
      "\n",
      "\n",
      "{'title': 'New findings on the albino giant panda in the Wolong National Nature Reserve', 'summary': 'Four years ago, in a twist of fate, an all-white \"bear-like\" creature spotted in a nature reserve in China\\'s Sichuan Province was identified by zoologists as the world\\'s only albino giant panda. (The giant panda is classified as a species of bear.)', 'story_link': 'https://phys.org/news/2023-09-albino-giant-panda-wolong-national.html', 'tag': 'Plants & Animals Ecology', 'media_url': 'https://scx1.b-cdn.net/csz/news/tmb/2023/new-findings-reported.jpg'} \n",
      "\n",
      "\n",
      "\n",
      "\n",
      "\n",
      "\n",
      "\n",
      "{'title': 'Electromagnetic field-assisted thermal catalysis enabling low-temperature, low-pressure, large-scale ammonia synthesis', 'summary': 'Ammonia (NH3), as one of the most common industrial chemicals, is essential for nitrogenous fertilizer production and shows potential as a next-generation green fuel. Industrial ammonia synthesis relies on the reaction of fossil fuel-derived hydrogen and nitrogen (Haber-Bosch method) under high temperature (~500 °C) and high pressure (>15 MPa), which consumes ∼2% of global power and discharges ∼1.5% of global greenhouse gas.', 'story_link': 'https://phys.org/news/2023-09-electromagnetic-field-assisted-thermal-catalysis-enabling.html', 'tag': 'Analytical Chemistry Materials Science', 'media_url': 'https://scx1.b-cdn.net/csz/news/tmb/2023/electromagnetic-field.jpg'} \n",
      "\n",
      "\n",
      "\n",
      "\n",
      "\n",
      "\n",
      "\n"
     ]
    }
   ],
   "source": [
    "for i in range(len(quantafeed.entries)):\n",
    "    # take each entry and format them into RSSPost fields\n",
    "    RSSPost = {}\n",
    "    tags = []\n",
    "    for tag in range(len(feed.entries[i].tags)):\n",
    "        tags.append(feed.entries[i].tags[tag].term)\n",
    "    RSSPost = { 'title': str(quantafeed.entries[i].title),\n",
    "        'summary': str(quantafeed.entries[i].summary),\n",
    "        'story_link': str(quantafeed.entries[i].link),\n",
    "        'tag': tags,\n",
    "        'media_url': str(feed.entries[i].media_content[0]['url'])\n",
    "    }\n",
    "    print(RSSPost, \"\\n\\n\\n\\n\\n\\n\\n\")\n",
    "    \n",
    "\n",
    "for i in range(len(physfeed.entries)):\n",
    "    # take each entry and format them into RSSPost fields\n",
    "    RSSPost = {}\n",
    "    tags = []\n",
    "    for tag in range(len(physfeed.entries[i].tags)):\n",
    "        tags.append(physfeed.entries[i].tags[tag].term)\n",
    "    RSSPost = { 'title': str(physfeed.entries[i].title),\n",
    "        'summary': str(physfeed.entries[i].summary),\n",
    "        'story_link': str(physfeed.entries[i].link),\n",
    "        'tag': tags,\n",
    "        'media_url': str(physfeed.entries[i].media_thumbnail[0][list(physfeed.entries[i].media_thumbnail[0].keys())[0]])\n",
    "    }\n",
    "    print(RSSPost, \"\\n\\n\\n\\n\\n\\n\\n\")"
   ]
  },
  {
   "cell_type": "code",
   "execution_count": null,
   "id": "2ac55942",
   "metadata": {},
   "outputs": [],
   "source": []
  }
 ],
 "metadata": {
  "kernelspec": {
   "display_name": "Python 3 (ipykernel)",
   "language": "python",
   "name": "python3"
  },
  "language_info": {
   "codemirror_mode": {
    "name": "ipython",
    "version": 3
   },
   "file_extension": ".py",
   "mimetype": "text/x-python",
   "name": "python",
   "nbconvert_exporter": "python",
   "pygments_lexer": "ipython3",
   "version": "3.11.3"
  }
 },
 "nbformat": 4,
 "nbformat_minor": 5
}
